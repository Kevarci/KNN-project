{
    "cells": [
        {
            "cell_type": "markdown",
            "metadata": {},
            "source": [
                "# Desarrollo del proyecto segun los pasos "
            ]
        },
        {
            "cell_type": "code",
            "execution_count": null,
            "metadata": {},
            "outputs": [],
            "source": [
                "import pandas as pd \n",
                "from sqlalchemy import create_engine, text\n",
                "import json\n",
                "\n",
                "url1 = 'https://raw.githubusercontent.com/4GeeksAcademy/k-nearest-neighbors-project-tutorial/main/tmdb_5000_movies.csv'\n",
                "\n",
                "url2 = 'https://raw.githubusercontent.com/4GeeksAcademy/k-nearest-neighbors-project-tutorial/main/tmdb_5000_credits.csv'\n",
                "\n",
                "\n",
                "movie_df = pd.read_csv(url1)\n",
                "credits_df = pd.read_csv(url2)"
            ]
        },
        {
            "cell_type": "code",
            "execution_count": null,
            "metadata": {},
            "outputs": [
                {
                    "data": {
                        "text/plain": [
                            "Index(['budget', 'genres', 'homepage', 'id', 'keywords', 'original_language',\n",
                            "       'original_title', 'overview', 'popularity', 'production_companies',\n",
                            "       'production_countries', 'release_date', 'revenue', 'runtime',\n",
                            "       'spoken_languages', 'status', 'tagline', 'title', 'vote_average',\n",
                            "       'vote_count'],\n",
                            "      dtype='object')\n"
                        ]
                    },
                    "metadata": {},
                    "output_type": "display_data"
                }
            ],
            "source": [
                "movie_df.columns"
            ]
        },
        {
            "cell_type": "code",
            "execution_count": null,
            "metadata": {},
            "outputs": [
                {
                    "data": {
                        "text/plain": [
                            "Index(['movie_id', 'title', 'cast', 'crew'], dtype='object')\n"
                        ]
                    },
                    "metadata": {},
                    "output_type": "display_data"
                }
            ],
            "source": [
                "credits_df.columns"
            ]
        },
        {
            "cell_type": "code",
            "execution_count": null,
            "metadata": {},
            "outputs": [],
            "source": [
                "#configuro la conexion de la Bdd\n",
                "db_url = 'postgresql://gitpod@localhost:5432/movie_db'\n",
                "eng = create_engine(db_url)\n",
                "\n",
                "#Esto lo guarda (recuerda)\n",
                "movie_df.to_sql('movies', eng, if_exists='replace', index=False)\n",
                "credits_df.to_sql('credits', eng, if_exists='replace', index=False)\n"
            ]
        },
        {
            "cell_type": "code",
            "execution_count": null,
            "metadata": {},
            "outputs": [],
            "source": [
                "with eng.connect() as connection:\n",
                "\n",
                "    connection.execute(text(\"DROP TABLE IF EXISTS unifica_movies;\"))\n",
                "    connection.commit()\n",
                "    "
            ]
        },
        {
            "cell_type": "code",
            "execution_count": null,
            "metadata": {},
            "outputs": [],
            "source": [
                "#Conexion a la Bdd \n",
                "with eng.connect() as connection:\n",
                "    \n",
                "    query = text(\"\"\"CREATE TABLE unifica_movies AS\n",
                "        SELECT \n",
                "            m.id AS movie_id,\n",
                "            m.title,\n",
                "            m.overview,\n",
                "            m.genres,\n",
                "            m.keywords,\n",
                "            c.cast,\n",
                "            c.crew\n",
                "        FROM movies m \n",
                "        JOIN credits c \n",
                "        ON m.title = c.title;\n",
                "        \"\"\")\n",
                "    connection.execute(query)\n",
                "    connection.commit()\n",
                "\n"
            ]
        },
        {
            "cell_type": "code",
            "execution_count": null,
            "metadata": {},
            "outputs": [
                {
                    "data": {
                        "text/plain": [
                            "Index(['movie_id', 'title', 'overview', 'genres', 'keywords', 'cast', 'crew'], dtype='object')\n"
                        ]
                    },
                    "metadata": {},
                    "output_type": "display_data"
                }
            ],
            "source": [
                "#aqui ya unificamos las bdd\n",
                "dfUnificada = pd.read_sql_table('unifica_movies', eng)\n",
                "\n",
                "print(dfUnificada.columns)"
            ]
        },
        {
            "cell_type": "code",
            "execution_count": null,
            "metadata": {},
            "outputs": [],
            "source": [
                "#conversion Json a Python\n",
                "\n",
                "dfUnificada['genres'] = dfUnificada['genres'].apply(json.loads)\n",
                "dfUnificada['keywords'] = dfUnificada['keywords'].apply(json.loads)\n",
                "dfUnificada['cast'] = dfUnificada['cast'].apply(json.loads)\n",
                "dfUnificada['crew'] = dfUnificada['crew'].apply(json.loads)"
            ]
        },
        {
            "cell_type": "code",
            "execution_count": null,
            "metadata": {},
            "outputs": [
                {
                    "data": {
                        "text/plain": [
                            "Traceback (most recent call last):\n",
                            "  File \"/home/vscode/.vscode-remote/extensions/ms-python.python-2025.0.0-linux-x64/python_files/python_server.py\", line 133, in exec_user_input\n",
                            "    retval = callable_(user_input, user_globals)\n",
                            "  File \"<string>\", line 4, in <module>\n",
                            "  File \"/workspaces/KNN-project/.venv/lib/python3.10/site-packages/pandas/core/series.py\", line 4924, in apply\n",
                            "    ).apply()\n",
                            "  File \"/workspaces/KNN-project/.venv/lib/python3.10/site-packages/pandas/core/apply.py\", line 1427, in apply\n",
                            "    return self.apply_standard()\n",
                            "  File \"/workspaces/KNN-project/.venv/lib/python3.10/site-packages/pandas/core/apply.py\", line 1507, in apply_standard\n",
                            "    mapped = obj._map_values(\n",
                            "  File \"/workspaces/KNN-project/.venv/lib/python3.10/site-packages/pandas/core/base.py\", line 921, in _map_values\n",
                            "    return algorithms.map_array(arr, mapper, na_action=na_action, convert=convert)\n",
                            "  File \"/workspaces/KNN-project/.venv/lib/python3.10/site-packages/pandas/core/algorithms.py\", line 1743, in map_array\n",
                            "    return lib.map_infer(values, mapper, convert=convert)\n",
                            "  File \"lib.pyx\", line 2972, in pandas._libs.lib.map_infer\n",
                            "  File \"<string>\", line 2, in extrae_names\n",
                            "  File \"<string>\", line 2, in <listcomp>\n",
                            "TypeError: string indices must be integers\n",
                            "\n"
                        ]
                    },
                    "metadata": {},
                    "output_type": "display_data"
                }
            ],
            "source": [
                "def extrae_names(json_list):\n",
                "    return [item['name'] for item in json_list]\n",
                "\n",
                "dfUnificada['genres'] = dfUnificada['genres'].apply(extrae_names)\n",
                "dfUnificada['keywords'] = dfUnificada['keywords'].apply(extrae_names)"
            ]
        },
        {
            "cell_type": "code",
            "execution_count": null,
            "metadata": {},
            "outputs": [],
            "source": [
                "def extrae_top3(json_list):\n",
                "    return[actor['name'] for actor in json_list[:3]]\n",
                "\n",
                "dfUnificada['cast'] = dfUnificada['cast'].apply(extrae_top3)"
            ]
        },
        {
            "cell_type": "code",
            "execution_count": null,
            "metadata": {},
            "outputs": [],
            "source": [
                "def extrae_directores(json_list):\n",
                "    for member in json_list:\n",
                "        if member['job'] == 'Director':\n",
                "            return member['name']\n",
                "    return None\n",
                "\n",
                "dfUnificada['director'] = dfUnificada['crew'].apply(extrae_directores)"
            ]
        },
        {
            "cell_type": "code",
            "execution_count": null,
            "metadata": {},
            "outputs": [],
            "source": [
                "dfUnificada['overview'] = dfUnificada['overview'].apply(lambda x: x.split() if isinstance(x, str) else [])"
            ]
        },
        {
            "cell_type": "code",
            "execution_count": null,
            "metadata": {},
            "outputs": [],
            "source": [
                "def remove_spaces(items):\n",
                "    return [item.replace(\" \", \"\") for item in items]\n"
            ]
        }
    ],
    "metadata": {
        "kernelspec": {
            "display_name": "Python 3.8.13 64-bit ('3.8.13')",
            "language": "python",
            "name": "python3"
        },
        "language_info": {
            "codemirror_mode": {
                "name": "ipython",
                "version": 3
            },
            "file_extension": ".py",
            "mimetype": "text/x-python",
            "name": "python",
            "nbconvert_exporter": "python",
            "pygments_lexer": "ipython3",
            "version": "3.8.13"
        },
        "orig_nbformat": 4,
        "vscode": {
            "interpreter": {
                "hash": "110cc1dee26208153f2972f08a2ad52b6a56238dc66d48e87fb757ef2996db56"
            }
        }
    },
    "nbformat": 4,
    "nbformat_minor": 2
}
